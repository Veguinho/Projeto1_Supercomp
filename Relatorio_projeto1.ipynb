{
 "cells": [
  {
   "cell_type": "code",
   "execution_count": 30,
   "metadata": {},
   "outputs": [
    {
     "data": {
      "text/html": [
       "<script>\n",
       "code_show=true; \n",
       "function code_toggle() {\n",
       " if (code_show){\n",
       " $('div.input').hide();\n",
       " } else {\n",
       " $('div.input').show();\n",
       " }\n",
       " code_show = !code_show\n",
       "} \n",
       "$( document ).ready(code_toggle);\n",
       "</script>\n",
       "The raw code for this IPython notebook is by default hidden for easier reading.\n",
       "To toggle on/off the raw code, click <a href=\"javascript:code_toggle()\">here</a>."
      ],
      "text/plain": [
       "<IPython.core.display.HTML object>"
      ]
     },
     "execution_count": 30,
     "metadata": {},
     "output_type": "execute_result"
    }
   ],
   "source": [
    "from IPython.display import HTML\n",
    "\n",
    "HTML('''<script>\n",
    "code_show=true; \n",
    "function code_toggle() {\n",
    " if (code_show){\n",
    " $('div.input').hide();\n",
    " } else {\n",
    " $('div.input').show();\n",
    " }\n",
    " code_show = !code_show\n",
    "} \n",
    "$( document ).ready(code_toggle);\n",
    "</script>\n",
    "The raw code for this IPython notebook is by default hidden for easier reading.\n",
    "To toggle on/off the raw code, click <a href=\"javascript:code_toggle()\">here</a>.''')"
   ]
  },
  {
   "cell_type": "markdown",
   "metadata": {},
   "source": [
    "# Supercomputação - Projeto 1 (Entrega 1) - Rafael Vieira Rosenzvaig\n",
    "## O Problema\n",
    "\n",
    "###### Este projeto tem como objetivo resolver o problema de escolha de projetos finais de engenharia dos alunos do Insper, utilizando técnicas de computação paralela.\n",
    "\n",
    "\n",
    "###### Solução:\n",
    "A solução encontrada foi a mais intutiva possível. A função escolhe_alunos() recebe a lista de preferências de cada aluno como entrada e recursivamente calcula a satisfação geral com todas as combinações possíveis. A combinação que possuir satisfação geral melhor será a escolhida e retornada pela função.\n",
    "\n",
    "## Infraestrutura\n",
    "##### Executáveis:\n",
    "- ingenua\n",
    "- backtrack.py\n",
    "- cria_entrada.py\n",
    "\n",
    "##### Arquivos:\n",
    "- backtrack.py\n",
    "    - Este arquivo define as funções: \n",
    "        - escolhe_alunos(), é a função que recursivamente calcula qual a melhor combinação possível entre a distribuição dos alunos, baseada na preferência de cada um.\n",
    "        - main(), lê os parâmetros do arquivo de entrada e chama a função escolhe_alunos() com esses parâmetros.\n",
    "- ingenua.cpp\n",
    "    - Este arquivo é a tradução direta para C++ do arquivo backtrack.py, portanto as funções fazem as mesmas coisas.\n",
    "- cria_entrada.py\n",
    "    - Este arquivo cria uma entrada para o arquivo backtrack.py e/ou ingenua.cpp e dentro dela são definidos os parâmetros de número de alunos, número de projetos e número de escolhas que cada aluno pode fazer para ranquear sua preferência.\n",
    "- CMakeLists.txt\n",
    "    - Este arquivo contém os parâmetros de compilação para gerar o executável.\n",
    "           \n",
    "##### Compilando e executando\n",
    "Para compilar o programa digite o seguinte código na pasta do projeto:\n",
    "Primeiro ```cmake ./build``` para usuários de Linux ou ```cmake -D CMAKE_CXX_COMPILER=g++-9 -B ./build``` para usuários de Mac  e depois ```make -C ./build```.  \n",
    "Para executar o programa digite o seguinte código na pasta do projeto:\n",
    "``` build/ingenua < entradaX ``` onde X é o número da entrada desejada."
   ]
  },
  {
   "cell_type": "code",
   "execution_count": 1,
   "metadata": {
    "scrolled": false
   },
   "outputs": [],
   "source": [
    "import pandas as pd \n",
    "import matplotlib.pyplot as plt\n",
    "import sys, string, os, subprocess\n",
    "import time\n",
    "\n",
    "start_time = time.time()\n",
    "out1_py = subprocess.check_output(\"python3 backtrack.py < entrada1\", shell=True)\n",
    "time1_py = (time.time() - start_time)\n",
    "\n",
    "start_time = time.time()\n",
    "out1_cpp = subprocess.check_output(\"build/ingenua < entrada1\", shell=True)\n",
    "time1_cpp = (time.time() - start_time)"
   ]
  },
  {
   "cell_type": "code",
   "execution_count": 2,
   "metadata": {},
   "outputs": [],
   "source": [
    "start_time = time.time()\n",
    "out2_py = subprocess.check_output(\"python3 backtrack.py < entrada2\", shell=True)\n",
    "time2_py = (time.time() - start_time)\n",
    "\n",
    "start_time = time.time()\n",
    "out2_cpp = subprocess.check_output(\"build/ingenua < entrada2\", shell=True)\n",
    "time2_cpp = (time.time() - start_time)"
   ]
  },
  {
   "cell_type": "code",
   "execution_count": 3,
   "metadata": {},
   "outputs": [],
   "source": [
    "start_time = time.time()\n",
    "out3_py = subprocess.check_output(\"python3 backtrack.py < entrada3\", shell=True)\n",
    "time3_py = (time.time() - start_time)\n",
    "\n",
    "start_time = time.time()\n",
    "out3_cpp = subprocess.check_output(\"build/ingenua < entrada3\", shell=True)\n",
    "time3_cpp = (time.time() - start_time)"
   ]
  },
  {
   "cell_type": "code",
   "execution_count": 4,
   "metadata": {},
   "outputs": [
    {
     "name": "stdout",
     "output_type": "stream",
     "text": [
      "Resultados brutos:\n",
      "Python entrada1 0.18460702896118164 segundos\n",
      "C++ entrada1 0.584932804107666 segundos\n",
      "Python entrada2 0.24082612991333008 segundos\n",
      "C++ entrada2 0.034356117248535156 segundos\n",
      "Python entrada3 12.67642617225647 segundos\n",
      "C++ entrada3 5.193982839584351 segundos\n"
     ]
    }
   ],
   "source": [
    "print(\"Resultados brutos:\")\n",
    "print(\"Python entrada1 \" + str(time1_py) + \" segundos\")\n",
    "print(\"C++ entrada1 \" + str(time1_cpp) + \" segundos\")\n",
    "print(\"Python entrada2 \" + str(time2_py) + \" segundos\")\n",
    "print(\"C++ entrada2 \" + str(time2_cpp) + \" segundos\")\n",
    "print(\"Python entrada3 \" + str(time3_py) + \" segundos\")\n",
    "print(\"C++ entrada3 \" + str(time3_cpp) + \" segundos\")\n"
   ]
  },
  {
   "cell_type": "markdown",
   "metadata": {},
   "source": [
    "## Resultados\n",
    "Observando os resultados é possível afirmar que a mudança de python para C++ proporcionou uma melhora substancial na velocidade em quando os tamanhos de entradas fornecidas eram maiores, onde se viu uma melhora de quase 2 vezes para a entrada3 e de aproximadamente 7 vezes para a entrada2. Já a entrada1 apresentou um tempo de processamento melhor em quase 6 vezes para o python.\n"
   ]
  },
  {
   "cell_type": "code",
   "execution_count": 5,
   "metadata": {},
   "outputs": [
    {
     "data": {
      "image/png": "[encoded data removed]",
      "text/plain": [
       "<Figure size 432x288 with 1 Axes>"
      ]
     },
     "metadata": {
      "needs_background": "light"
     },
     "output_type": "display_data"
    }
   ],
   "source": [
    "tempos_py = [time1_py, time2_py, time3_py]\n",
    "tempos_cpp = [time1_cpp, time2_cpp, time3_cpp]\n",
    "entradas = [\"4 alunos | 2 projetos\", \"9 alunos | 3 projetos\" , \"12 alunos | 4 projetos\"]\n",
    "plt.plot(entradas,tempos_py,label=\"Python\")\n",
    "plt.plot(entradas,tempos_cpp,label=\"C++\")\n",
    "plt.title('Tempos de processamento com entradas diferentes')\n",
    "plt.ylabel('Tempo (s)')\n",
    "plt.xlabel('Tamanho da entrada')\n",
    "plt.show()"
   ]
  },
  {
   "cell_type": "markdown",
   "metadata": {},
   "source": [
    "## Considerações finais\n"
   ]
  },
  {
   "cell_type": "code",
   "execution_count": null,
   "metadata": {},
   "outputs": [],
   "source": []
  }
 ],
 "metadata": {
  "kernelspec": {
   "display_name": "Python 3",
   "language": "python",
   "name": "python3"
  },
  "language_info": {
   "codemirror_mode": {
    "name": "ipython",
    "version": 3
   },
   "file_extension": ".py",
   "mimetype": "text/x-python",
   "name": "python",
   "nbconvert_exporter": "python",
   "pygments_lexer": "ipython3",
   "version": "3.7.4"
  }
 },
 "nbformat": 4,
 "nbformat_minor": 2
}
